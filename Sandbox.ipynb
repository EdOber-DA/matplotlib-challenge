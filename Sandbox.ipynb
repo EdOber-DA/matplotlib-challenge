{
 "cells": [
  {
   "cell_type": "code",
   "execution_count": 1,
   "metadata": {},
   "outputs": [],
   "source": [
    "import numpy as np\n",
    "import matplotlib.pyplot as plt\n",
    "\n",
    "# Fixing random state for reproducibility\n",
    "np.random.seed(19680801)"
   ]
  },
  {
   "cell_type": "code",
   "execution_count": 2,
   "metadata": {},
   "outputs": [],
   "source": [
    "# fake up some data\n",
    "spread = np.random.rand(50) * 100\n",
    "center = np.ones(25) * 50\n",
    "flier_high = np.random.rand(10) * 100 + 100\n",
    "flier_low = np.random.rand(10) * -100\n",
    "data = np.concatenate((spread, center, flier_high, flier_low))"
   ]
  },
  {
   "cell_type": "code",
   "execution_count": 3,
   "metadata": {},
   "outputs": [
    {
     "data": {
      "text/plain": [
       "{'whiskers': [<matplotlib.lines.Line2D at 0x27696982eb8>,\n",
       "  <matplotlib.lines.Line2D at 0x27696999278>],\n",
       " 'caps': [<matplotlib.lines.Line2D at 0x276969995f8>,\n",
       "  <matplotlib.lines.Line2D at 0x27696999978>],\n",
       " 'boxes': [<matplotlib.lines.Line2D at 0x27696982ba8>],\n",
       " 'medians': [<matplotlib.lines.Line2D at 0x27696999cf8>],\n",
       " 'fliers': [<matplotlib.lines.Line2D at 0x276969a60b8>],\n",
       " 'means': []}"
      ]
     },
     "execution_count": 3,
     "metadata": {},
     "output_type": "execute_result"
    },
    {
     "data": {
      "image/png": "[encoded data removed]",
      "text/plain": [
       "<Figure size 432x288 with 1 Axes>"
      ]
     },
     "metadata": {
      "needs_background": "light"
     },
     "output_type": "display_data"
    }
   ],
   "source": [
    "fig1, ax1 = plt.subplots()\n",
    "ax1.set_title('Basic Plot')\n",
    "ax1.boxplot(data)"
   ]
  },
  {
   "cell_type": "code",
   "execution_count": 4,
   "metadata": {},
   "outputs": [
    {
     "data": {
      "text/plain": [
       "{'whiskers': [<matplotlib.lines.Line2D at 0x27696a3fa58>,\n",
       "  <matplotlib.lines.Line2D at 0x27696a3fdd8>],\n",
       " 'caps': [<matplotlib.lines.Line2D at 0x27696a4c198>,\n",
       "  <matplotlib.lines.Line2D at 0x27696a4c518>],\n",
       " 'boxes': [<matplotlib.lines.Line2D at 0x27696a3f748>],\n",
       " 'medians': [<matplotlib.lines.Line2D at 0x27696a4c898>],\n",
       " 'fliers': [<matplotlib.lines.Line2D at 0x27696a4cc18>],\n",
       " 'means': []}"
      ]
     },
     "execution_count": 4,
     "metadata": {},
     "output_type": "execute_result"
    },
    {
     "data": {
      "image/png": "[encoded data removed]",
      "text/plain": [
       "<Figure size 432x288 with 1 Axes>"
      ]
     },
     "metadata": {
      "needs_background": "light"
     },
     "output_type": "display_data"
    }
   ],
   "source": [
    "green_diamond = dict(markerfacecolor='g', marker='D')\n",
    "fig3, ax3 = plt.subplots()\n",
    "ax3.set_title('Changed Outlier Symbols')\n",
    "ax3.boxplot(data, flierprops=green_diamond)"
   ]
  },
  {
   "cell_type": "code",
   "execution_count": 5,
   "metadata": {},
   "outputs": [],
   "source": [
    "spread = np.random.rand(50) * 100\n",
    "center = np.ones(25) * 40\n",
    "flier_high = np.random.rand(10) * 100 + 100\n",
    "flier_low = np.random.rand(10) * -100\n",
    "d2 = np.concatenate((spread, center, flier_high, flier_low))"
   ]
  },
  {
   "cell_type": "code",
   "execution_count": 6,
   "metadata": {},
   "outputs": [],
   "source": [
    "# data = [data, d2, d2[::2]]\n",
    "# fig7, ax7 = plt.subplots()\n",
    "# ax7.set_title('Multiple Samples with Different sizes')\n",
    "# ax7.boxplot(data)\n",
    "\n",
    "# plt.show()"
   ]
  },
  {
   "cell_type": "code",
   "execution_count": 8,
   "metadata": {},
   "outputs": [
    {
     "data": {
      "text/plain": [
       "array([ 83.78376368,  11.8615617 ,  79.72347418,  94.90042675,\n",
       "        14.80628764,  90.68719849,  78.83733255,  76.84058413,\n",
       "        59.8496483 ,  44.21456175,  72.30380198,  41.66182494,\n",
       "        22.68103954,  45.42273409,  84.79437532,  93.6655949 ,\n",
       "        95.60361846,  39.20943157,  70.8324671 ,  12.95158346,\n",
       "        35.37963854,  40.42715193,  64.85338993,   3.30709704,\n",
       "        53.80093632,  13.17131185,  52.09349339,  10.24847852,\n",
       "        15.79803754,  92.0029646 ,  78.42297751,  39.70475376,\n",
       "        15.46468315,  72.11932479,  83.68309041,  93.78552019,\n",
       "        57.67138189,  19.50265601,  11.77939697,  95.06002043,\n",
       "        28.36723023,  95.65624228,  90.94254614,  32.84251875,\n",
       "        95.17655686,  11.63214758,  87.43141503,  98.52254676,\n",
       "        75.03353804,  98.51564662,  40.        ,  40.        ,\n",
       "        40.        ,  40.        ,  40.        ,  40.        ,\n",
       "        40.        ,  40.        ,  40.        ,  40.        ,\n",
       "        40.        ,  40.        ,  40.        ,  40.        ,\n",
       "        40.        ,  40.        ,  40.        ,  40.        ,\n",
       "        40.        ,  40.        ,  40.        ,  40.        ,\n",
       "        40.        ,  40.        ,  40.        , 199.0180235 ,\n",
       "       106.09770913, 100.37359805, 181.25032132, 158.27367203,\n",
       "       115.02459814, 115.21735565, 152.7059502 , 147.94051987,\n",
       "       109.21899366, -51.19574322,  -4.28311062, -80.62961538,\n",
       "       -24.21986649, -84.8211097 , -69.55898582, -36.13268647,\n",
       "       -50.57014395, -29.41724224, -66.00845699])"
      ]
     },
     "execution_count": 8,
     "metadata": {},
     "output_type": "execute_result"
    }
   ],
   "source": [
    "d2"
   ]
  },
  {
   "cell_type": "code",
   "execution_count": 9,
   "metadata": {},
   "outputs": [
    {
     "data": {
      "text/plain": [
       "array([ 83.78376368,  79.72347418,  14.80628764,  78.83733255,\n",
       "        59.8496483 ,  72.30380198,  22.68103954,  84.79437532,\n",
       "        95.60361846,  70.8324671 ,  35.37963854,  64.85338993,\n",
       "        53.80093632,  52.09349339,  15.79803754,  78.42297751,\n",
       "        15.46468315,  83.68309041,  57.67138189,  11.77939697,\n",
       "        28.36723023,  90.94254614,  95.17655686,  87.43141503,\n",
       "        75.03353804,  40.        ,  40.        ,  40.        ,\n",
       "        40.        ,  40.        ,  40.        ,  40.        ,\n",
       "        40.        ,  40.        ,  40.        ,  40.        ,\n",
       "        40.        ,  40.        , 106.09770913, 181.25032132,\n",
       "       115.02459814, 152.7059502 , 109.21899366,  -4.28311062,\n",
       "       -24.21986649, -69.55898582, -50.57014395, -66.00845699])"
      ]
     },
     "execution_count": 9,
     "metadata": {},
     "output_type": "execute_result"
    }
   ],
   "source": [
    "d2[::2]"
   ]
  },
  {
   "cell_type": "code",
   "execution_count": null,
   "metadata": {},
   "outputs": [],
   "source": []
  }
 ],
 "metadata": {
  "kernelspec": {
   "display_name": "Python 3",
   "language": "python",
   "name": "python3"
  },
  "language_info": {
   "codemirror_mode": {
    "name": "ipython",
    "version": 3
   },
   "file_extension": ".py",
   "mimetype": "text/x-python",
   "name": "python",
   "nbconvert_exporter": "python",
   "pygments_lexer": "ipython3",
   "version": "3.6.10"
  }
 },
 "nbformat": 4,
 "nbformat_minor": 4
}

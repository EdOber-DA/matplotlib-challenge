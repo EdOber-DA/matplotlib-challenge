{
 "cells": [
  {
   "cell_type": "markdown",
   "metadata": {},
   "source": [
    "## Observations and Insights "
   ]
  },
  {
   "cell_type": "markdown",
   "metadata": {},
   "source": []
  },
  {
   "cell_type": "code",
   "execution_count": 1,
   "metadata": {},
   "outputs": [
    {
     "data": {
      "text/html": [
       "<div>\n",
       "<style scoped>\n",
       "    .dataframe tbody tr th:only-of-type {\n",
       "        vertical-align: middle;\n",
       "    }\n",
       "\n",
       "    .dataframe tbody tr th {\n",
       "        vertical-align: top;\n",
       "    }\n",
       "\n",
       "    .dataframe thead th {\n",
       "        text-align: right;\n",
       "    }\n",
       "</style>\n",
       "<table border=\"1\" class=\"dataframe\">\n",
       "  <thead>\n",
       "    <tr style=\"text-align: right;\">\n",
       "      <th></th>\n",
       "      <th>Mouse ID</th>\n",
       "      <th>Drug Regimen</th>\n",
       "      <th>Sex</th>\n",
       "      <th>Age_months</th>\n",
       "      <th>Weight (g)</th>\n",
       "      <th>Timepoint</th>\n",
       "      <th>Tumor Volume (mm3)</th>\n",
       "      <th>Metastatic Sites</th>\n",
       "    </tr>\n",
       "  </thead>\n",
       "  <tbody>\n",
       "    <tr>\n",
       "      <th>0</th>\n",
       "      <td>k403</td>\n",
       "      <td>Ramicane</td>\n",
       "      <td>Male</td>\n",
       "      <td>21</td>\n",
       "      <td>16</td>\n",
       "      <td>0</td>\n",
       "      <td>45.000000</td>\n",
       "      <td>0</td>\n",
       "    </tr>\n",
       "    <tr>\n",
       "      <th>1</th>\n",
       "      <td>k403</td>\n",
       "      <td>Ramicane</td>\n",
       "      <td>Male</td>\n",
       "      <td>21</td>\n",
       "      <td>16</td>\n",
       "      <td>5</td>\n",
       "      <td>38.825898</td>\n",
       "      <td>0</td>\n",
       "    </tr>\n",
       "    <tr>\n",
       "      <th>2</th>\n",
       "      <td>k403</td>\n",
       "      <td>Ramicane</td>\n",
       "      <td>Male</td>\n",
       "      <td>21</td>\n",
       "      <td>16</td>\n",
       "      <td>10</td>\n",
       "      <td>35.014271</td>\n",
       "      <td>1</td>\n",
       "    </tr>\n",
       "    <tr>\n",
       "      <th>3</th>\n",
       "      <td>k403</td>\n",
       "      <td>Ramicane</td>\n",
       "      <td>Male</td>\n",
       "      <td>21</td>\n",
       "      <td>16</td>\n",
       "      <td>15</td>\n",
       "      <td>34.223992</td>\n",
       "      <td>1</td>\n",
       "    </tr>\n",
       "    <tr>\n",
       "      <th>4</th>\n",
       "      <td>k403</td>\n",
       "      <td>Ramicane</td>\n",
       "      <td>Male</td>\n",
       "      <td>21</td>\n",
       "      <td>16</td>\n",
       "      <td>20</td>\n",
       "      <td>32.997729</td>\n",
       "      <td>1</td>\n",
       "    </tr>\n",
       "    <tr>\n",
       "      <th>...</th>\n",
       "      <td>...</td>\n",
       "      <td>...</td>\n",
       "      <td>...</td>\n",
       "      <td>...</td>\n",
       "      <td>...</td>\n",
       "      <td>...</td>\n",
       "      <td>...</td>\n",
       "      <td>...</td>\n",
       "    </tr>\n",
       "    <tr>\n",
       "      <th>1888</th>\n",
       "      <td>z969</td>\n",
       "      <td>Naftisol</td>\n",
       "      <td>Male</td>\n",
       "      <td>9</td>\n",
       "      <td>30</td>\n",
       "      <td>25</td>\n",
       "      <td>63.145652</td>\n",
       "      <td>2</td>\n",
       "    </tr>\n",
       "    <tr>\n",
       "      <th>1889</th>\n",
       "      <td>z969</td>\n",
       "      <td>Naftisol</td>\n",
       "      <td>Male</td>\n",
       "      <td>9</td>\n",
       "      <td>30</td>\n",
       "      <td>30</td>\n",
       "      <td>65.841013</td>\n",
       "      <td>3</td>\n",
       "    </tr>\n",
       "    <tr>\n",
       "      <th>1890</th>\n",
       "      <td>z969</td>\n",
       "      <td>Naftisol</td>\n",
       "      <td>Male</td>\n",
       "      <td>9</td>\n",
       "      <td>30</td>\n",
       "      <td>35</td>\n",
       "      <td>69.176246</td>\n",
       "      <td>4</td>\n",
       "    </tr>\n",
       "    <tr>\n",
       "      <th>1891</th>\n",
       "      <td>z969</td>\n",
       "      <td>Naftisol</td>\n",
       "      <td>Male</td>\n",
       "      <td>9</td>\n",
       "      <td>30</td>\n",
       "      <td>40</td>\n",
       "      <td>70.314904</td>\n",
       "      <td>4</td>\n",
       "    </tr>\n",
       "    <tr>\n",
       "      <th>1892</th>\n",
       "      <td>z969</td>\n",
       "      <td>Naftisol</td>\n",
       "      <td>Male</td>\n",
       "      <td>9</td>\n",
       "      <td>30</td>\n",
       "      <td>45</td>\n",
       "      <td>73.867845</td>\n",
       "      <td>4</td>\n",
       "    </tr>\n",
       "  </tbody>\n",
       "</table>\n",
       "<p>1893 rows × 8 columns</p>\n",
       "</div>"
      ],
      "text/plain": [
       "     Mouse ID Drug Regimen   Sex  Age_months  Weight (g)  Timepoint  \\\n",
       "0        k403     Ramicane  Male          21          16          0   \n",
       "1        k403     Ramicane  Male          21          16          5   \n",
       "2        k403     Ramicane  Male          21          16         10   \n",
       "3        k403     Ramicane  Male          21          16         15   \n",
       "4        k403     Ramicane  Male          21          16         20   \n",
       "...       ...          ...   ...         ...         ...        ...   \n",
       "1888     z969     Naftisol  Male           9          30         25   \n",
       "1889     z969     Naftisol  Male           9          30         30   \n",
       "1890     z969     Naftisol  Male           9          30         35   \n",
       "1891     z969     Naftisol  Male           9          30         40   \n",
       "1892     z969     Naftisol  Male           9          30         45   \n",
       "\n",
       "      Tumor Volume (mm3)  Metastatic Sites  \n",
       "0              45.000000                 0  \n",
       "1              38.825898                 0  \n",
       "2              35.014271                 1  \n",
       "3              34.223992                 1  \n",
       "4              32.997729                 1  \n",
       "...                  ...               ...  \n",
       "1888           63.145652                 2  \n",
       "1889           65.841013                 3  \n",
       "1890           69.176246                 4  \n",
       "1891           70.314904                 4  \n",
       "1892           73.867845                 4  \n",
       "\n",
       "[1893 rows x 8 columns]"
      ]
     },
     "execution_count": 1,
     "metadata": {},
     "output_type": "execute_result"
    }
   ],
   "source": [
    "# Dependencies and Setup\n",
    "import matplotlib.pyplot as plt\n",
    "import pandas as pd\n",
    "import scipy.stats as st\n",
    "import numpy as np\n",
    "\n",
    "from scipy.stats import linregress\n",
    "\n",
    "\n",
    "# Study data files\n",
    "mouse_metadata_path = \"data/Mouse_metadata.csv\"\n",
    "study_results_path = \"data/Study_results.csv\"\n",
    "\n",
    "# Read the mouse data and the study results\n",
    "mouse_metadata = pd.read_csv(mouse_metadata_path)\n",
    "study_results = pd.read_csv(study_results_path)\n",
    "\n",
    "# Combine the data into a single dataset\n",
    "Drug_study_base_df = pd.merge(mouse_metadata, study_results, on=\"Mouse ID\", how=\"outer\" )\n",
    "# Display the data table for preview\n",
    "Drug_study_base_df"
   ]
  },
  {
   "cell_type": "code",
   "execution_count": 2,
   "metadata": {},
   "outputs": [
    {
     "name": "stdout",
     "output_type": "stream",
     "text": [
      "249\n"
     ]
    }
   ],
   "source": [
    "# Checking the number of mice.\n",
    "print(Drug_study_base_df[\"Mouse ID\"].nunique())"
   ]
  },
  {
   "cell_type": "code",
   "execution_count": 3,
   "metadata": {},
   "outputs": [
    {
     "data": {
      "text/plain": [
       "array(['g989'], dtype=object)"
      ]
     },
     "execution_count": 3,
     "metadata": {},
     "output_type": "execute_result"
    }
   ],
   "source": [
    "# Getting the duplicate mice by ID number that shows up for Mouse ID and Timepoint. \n",
    "\n",
    "#### Get a copy of the merged input\n",
    "Drug_Analysis_Base_df = Drug_study_base_df\n",
    "\n",
    "#### Build a count file to identify duplicate rows, and get it clean and concise\n",
    "Drug_Study_Count_df = pd.DataFrame(Drug_study_base_df.groupby([\"Mouse ID\",\"Timepoint\"]).count())\n",
    "\n",
    "Drug_Study_Count_df = Drug_Study_Count_df.drop(columns=[\"Sex\",\"Age_months\",\"Weight (g)\",\"Tumor Volume (mm3)\", \"Metastatic Sites\"])\n",
    "Drug_Study_Count_df = Drug_Study_Count_df.rename(columns={\"Drug Regimen\": \"Count\"})\n",
    "\n",
    "#### Merge the counts with the base Data to get counts with the rows\n",
    "Drug_Study_Flagged_df = pd.merge(Drug_Analysis_Base_df, Drug_Study_Count_df, on = [\"Mouse ID\",\"Timepoint\"]) \n",
    "\n",
    "#### List the bad Mice...\n",
    "Bad_Mice_IDs = Drug_Study_Flagged_df.loc[Drug_Study_Flagged_df['Count'] > 1,\"Mouse ID\"].unique()\n",
    "Bad_Mice_IDs"
   ]
  },
  {
   "cell_type": "code",
   "execution_count": 4,
   "metadata": {},
   "outputs": [
    {
     "data": {
      "text/html": [
       "<div>\n",
       "<style scoped>\n",
       "    .dataframe tbody tr th:only-of-type {\n",
       "        vertical-align: middle;\n",
       "    }\n",
       "\n",
       "    .dataframe tbody tr th {\n",
       "        vertical-align: top;\n",
       "    }\n",
       "\n",
       "    .dataframe thead th {\n",
       "        text-align: right;\n",
       "    }\n",
       "</style>\n",
       "<table border=\"1\" class=\"dataframe\">\n",
       "  <thead>\n",
       "    <tr style=\"text-align: right;\">\n",
       "      <th></th>\n",
       "      <th>Mouse ID</th>\n",
       "      <th>Drug Regimen</th>\n",
       "      <th>Sex</th>\n",
       "      <th>Age_months</th>\n",
       "      <th>Weight (g)</th>\n",
       "      <th>Timepoint</th>\n",
       "      <th>Tumor Volume (mm3)</th>\n",
       "      <th>Metastatic Sites</th>\n",
       "      <th>Count</th>\n",
       "    </tr>\n",
       "  </thead>\n",
       "  <tbody>\n",
       "    <tr>\n",
       "      <th>908</th>\n",
       "      <td>g989</td>\n",
       "      <td>Propriva</td>\n",
       "      <td>Female</td>\n",
       "      <td>21</td>\n",
       "      <td>26</td>\n",
       "      <td>0</td>\n",
       "      <td>45.000000</td>\n",
       "      <td>0</td>\n",
       "      <td>2</td>\n",
       "    </tr>\n",
       "    <tr>\n",
       "      <th>909</th>\n",
       "      <td>g989</td>\n",
       "      <td>Propriva</td>\n",
       "      <td>Female</td>\n",
       "      <td>21</td>\n",
       "      <td>26</td>\n",
       "      <td>0</td>\n",
       "      <td>45.000000</td>\n",
       "      <td>0</td>\n",
       "      <td>2</td>\n",
       "    </tr>\n",
       "    <tr>\n",
       "      <th>910</th>\n",
       "      <td>g989</td>\n",
       "      <td>Propriva</td>\n",
       "      <td>Female</td>\n",
       "      <td>21</td>\n",
       "      <td>26</td>\n",
       "      <td>5</td>\n",
       "      <td>48.786801</td>\n",
       "      <td>0</td>\n",
       "      <td>2</td>\n",
       "    </tr>\n",
       "    <tr>\n",
       "      <th>911</th>\n",
       "      <td>g989</td>\n",
       "      <td>Propriva</td>\n",
       "      <td>Female</td>\n",
       "      <td>21</td>\n",
       "      <td>26</td>\n",
       "      <td>5</td>\n",
       "      <td>47.570392</td>\n",
       "      <td>0</td>\n",
       "      <td>2</td>\n",
       "    </tr>\n",
       "    <tr>\n",
       "      <th>912</th>\n",
       "      <td>g989</td>\n",
       "      <td>Propriva</td>\n",
       "      <td>Female</td>\n",
       "      <td>21</td>\n",
       "      <td>26</td>\n",
       "      <td>10</td>\n",
       "      <td>51.745156</td>\n",
       "      <td>0</td>\n",
       "      <td>2</td>\n",
       "    </tr>\n",
       "    <tr>\n",
       "      <th>913</th>\n",
       "      <td>g989</td>\n",
       "      <td>Propriva</td>\n",
       "      <td>Female</td>\n",
       "      <td>21</td>\n",
       "      <td>26</td>\n",
       "      <td>10</td>\n",
       "      <td>49.880528</td>\n",
       "      <td>0</td>\n",
       "      <td>2</td>\n",
       "    </tr>\n",
       "    <tr>\n",
       "      <th>914</th>\n",
       "      <td>g989</td>\n",
       "      <td>Propriva</td>\n",
       "      <td>Female</td>\n",
       "      <td>21</td>\n",
       "      <td>26</td>\n",
       "      <td>15</td>\n",
       "      <td>51.325852</td>\n",
       "      <td>1</td>\n",
       "      <td>2</td>\n",
       "    </tr>\n",
       "    <tr>\n",
       "      <th>915</th>\n",
       "      <td>g989</td>\n",
       "      <td>Propriva</td>\n",
       "      <td>Female</td>\n",
       "      <td>21</td>\n",
       "      <td>26</td>\n",
       "      <td>15</td>\n",
       "      <td>53.442020</td>\n",
       "      <td>0</td>\n",
       "      <td>2</td>\n",
       "    </tr>\n",
       "    <tr>\n",
       "      <th>916</th>\n",
       "      <td>g989</td>\n",
       "      <td>Propriva</td>\n",
       "      <td>Female</td>\n",
       "      <td>21</td>\n",
       "      <td>26</td>\n",
       "      <td>20</td>\n",
       "      <td>55.326122</td>\n",
       "      <td>1</td>\n",
       "      <td>2</td>\n",
       "    </tr>\n",
       "    <tr>\n",
       "      <th>917</th>\n",
       "      <td>g989</td>\n",
       "      <td>Propriva</td>\n",
       "      <td>Female</td>\n",
       "      <td>21</td>\n",
       "      <td>26</td>\n",
       "      <td>20</td>\n",
       "      <td>54.657650</td>\n",
       "      <td>1</td>\n",
       "      <td>2</td>\n",
       "    </tr>\n",
       "    <tr>\n",
       "      <th>918</th>\n",
       "      <td>g989</td>\n",
       "      <td>Propriva</td>\n",
       "      <td>Female</td>\n",
       "      <td>21</td>\n",
       "      <td>26</td>\n",
       "      <td>25</td>\n",
       "      <td>56.045564</td>\n",
       "      <td>1</td>\n",
       "      <td>1</td>\n",
       "    </tr>\n",
       "    <tr>\n",
       "      <th>919</th>\n",
       "      <td>g989</td>\n",
       "      <td>Propriva</td>\n",
       "      <td>Female</td>\n",
       "      <td>21</td>\n",
       "      <td>26</td>\n",
       "      <td>30</td>\n",
       "      <td>59.082294</td>\n",
       "      <td>1</td>\n",
       "      <td>1</td>\n",
       "    </tr>\n",
       "    <tr>\n",
       "      <th>920</th>\n",
       "      <td>g989</td>\n",
       "      <td>Propriva</td>\n",
       "      <td>Female</td>\n",
       "      <td>21</td>\n",
       "      <td>26</td>\n",
       "      <td>35</td>\n",
       "      <td>62.570880</td>\n",
       "      <td>2</td>\n",
       "      <td>1</td>\n",
       "    </tr>\n",
       "  </tbody>\n",
       "</table>\n",
       "</div>"
      ],
      "text/plain": [
       "    Mouse ID Drug Regimen     Sex  Age_months  Weight (g)  Timepoint  \\\n",
       "908     g989     Propriva  Female          21          26          0   \n",
       "909     g989     Propriva  Female          21          26          0   \n",
       "910     g989     Propriva  Female          21          26          5   \n",
       "911     g989     Propriva  Female          21          26          5   \n",
       "912     g989     Propriva  Female          21          26         10   \n",
       "913     g989     Propriva  Female          21          26         10   \n",
       "914     g989     Propriva  Female          21          26         15   \n",
       "915     g989     Propriva  Female          21          26         15   \n",
       "916     g989     Propriva  Female          21          26         20   \n",
       "917     g989     Propriva  Female          21          26         20   \n",
       "918     g989     Propriva  Female          21          26         25   \n",
       "919     g989     Propriva  Female          21          26         30   \n",
       "920     g989     Propriva  Female          21          26         35   \n",
       "\n",
       "     Tumor Volume (mm3)  Metastatic Sites  Count  \n",
       "908           45.000000                 0      2  \n",
       "909           45.000000                 0      2  \n",
       "910           48.786801                 0      2  \n",
       "911           47.570392                 0      2  \n",
       "912           51.745156                 0      2  \n",
       "913           49.880528                 0      2  \n",
       "914           51.325852                 1      2  \n",
       "915           53.442020                 0      2  \n",
       "916           55.326122                 1      2  \n",
       "917           54.657650                 1      2  \n",
       "918           56.045564                 1      1  \n",
       "919           59.082294                 1      1  \n",
       "920           62.570880                 2      1  "
      ]
     },
     "execution_count": 4,
     "metadata": {},
     "output_type": "execute_result"
    }
   ],
   "source": [
    "# Optional: Get all the data for the duplicate mouse ID. \n",
    "#### Select the entries where the mouse ID matches what was found above\n",
    "Bad_Mice_Data = Drug_Study_Flagged_df.loc[Drug_Study_Flagged_df['Mouse ID'] == \"g989\"]\n",
    "Bad_Mice_Data\n",
    "# print(Drug_study_base_df.count())\n",
    "# print(Drug_study_base_df.count())"
   ]
  },
  {
   "cell_type": "code",
   "execution_count": 5,
   "metadata": {},
   "outputs": [
    {
     "name": "stdout",
     "output_type": "stream",
     "text": [
      "248\n"
     ]
    }
   ],
   "source": [
    "# Create a clean DataFrame by dropping the duplicate mouse by its ID.\n",
    "\n",
    "#######################################################################\n",
    "############### NOTE: a few ways of doing this ########################\n",
    "#######################################################################\n",
    "###### Option 1 - Simple copy while deleting based on loc\n",
    "# Drug_Study_Clean_Data_df = Drug_Study_Flagged_df.loc[Drug_Study_Flagged_df['Mouse ID'] != \"g989\"]\n",
    "#######################################################################\n",
    "###### Option 2 - \"Dropping as described in the instructions, more complex\n",
    "# index_names = Drug_Study_Clean_Data_df[(Drug_Study_Clean_Data_df['Mouse ID'] == \"g989\")].index \n",
    "# Drug_Study_Clean_Data_df.drop(index_names, inplace = True) \n",
    "#######################################################################\n",
    "\n",
    "### First, create a clean copy of the data that will have the bad mice \"dropped\" \n",
    "Drug_Study_Clean_Data_df = Drug_Study_Flagged_df.copy(deep=True)\n",
    "\n",
    "### Get a list of the indexes with the bad mice\n",
    "index_names = Drug_Study_Clean_Data_df[(Drug_Study_Clean_Data_df['Mouse ID'] == \"g989\")].index \n",
    "  \n",
    "### drop these given row indexes from dataFrame, doing an \"INPLACE DROP\" \n",
    "Drug_Study_Clean_Data_df.drop(index_names, inplace = True) \n",
    "\n",
    "# Checking the number of mice.\n",
    "print(Drug_Study_Clean_Data_df[\"Mouse ID\"].nunique())"
   ]
  },
  {
   "cell_type": "markdown",
   "metadata": {},
   "source": [
    "## Summary Statistics"
   ]
  },
  {
   "cell_type": "code",
   "execution_count": 6,
   "metadata": {},
   "outputs": [
    {
     "data": {
      "text/html": [
       "<div>\n",
       "<style scoped>\n",
       "    .dataframe tbody tr th:only-of-type {\n",
       "        vertical-align: middle;\n",
       "    }\n",
       "\n",
       "    .dataframe tbody tr th {\n",
       "        vertical-align: top;\n",
       "    }\n",
       "\n",
       "    .dataframe thead th {\n",
       "        text-align: right;\n",
       "    }\n",
       "</style>\n",
       "<table border=\"1\" class=\"dataframe\">\n",
       "  <thead>\n",
       "    <tr style=\"text-align: right;\">\n",
       "      <th></th>\n",
       "      <th>Mean</th>\n",
       "      <th>Median</th>\n",
       "      <th>Variance</th>\n",
       "      <th>Std_Deviation</th>\n",
       "      <th>SEM</th>\n",
       "    </tr>\n",
       "    <tr>\n",
       "      <th>Drug Regimen</th>\n",
       "      <th></th>\n",
       "      <th></th>\n",
       "      <th></th>\n",
       "      <th></th>\n",
       "      <th></th>\n",
       "    </tr>\n",
       "  </thead>\n",
       "  <tbody>\n",
       "    <tr>\n",
       "      <th>Capomulin</th>\n",
       "      <td>40.675741</td>\n",
       "      <td>41.557809</td>\n",
       "      <td>24.947764</td>\n",
       "      <td>4.994774</td>\n",
       "      <td>0.329346</td>\n",
       "    </tr>\n",
       "    <tr>\n",
       "      <th>Ceftamin</th>\n",
       "      <td>52.591172</td>\n",
       "      <td>51.776157</td>\n",
       "      <td>39.290177</td>\n",
       "      <td>6.268188</td>\n",
       "      <td>0.469821</td>\n",
       "    </tr>\n",
       "    <tr>\n",
       "      <th>Infubinol</th>\n",
       "      <td>52.884795</td>\n",
       "      <td>51.820584</td>\n",
       "      <td>43.128684</td>\n",
       "      <td>6.567243</td>\n",
       "      <td>0.492236</td>\n",
       "    </tr>\n",
       "    <tr>\n",
       "      <th>Ketapril</th>\n",
       "      <td>55.235638</td>\n",
       "      <td>53.698743</td>\n",
       "      <td>68.553577</td>\n",
       "      <td>8.279709</td>\n",
       "      <td>0.603860</td>\n",
       "    </tr>\n",
       "    <tr>\n",
       "      <th>Naftisol</th>\n",
       "      <td>54.331565</td>\n",
       "      <td>52.509285</td>\n",
       "      <td>66.173479</td>\n",
       "      <td>8.134708</td>\n",
       "      <td>0.596466</td>\n",
       "    </tr>\n",
       "    <tr>\n",
       "      <th>Placebo</th>\n",
       "      <td>54.033581</td>\n",
       "      <td>52.288934</td>\n",
       "      <td>61.168083</td>\n",
       "      <td>7.821003</td>\n",
       "      <td>0.581331</td>\n",
       "    </tr>\n",
       "    <tr>\n",
       "      <th>Propriva</th>\n",
       "      <td>52.320930</td>\n",
       "      <td>50.446266</td>\n",
       "      <td>43.852013</td>\n",
       "      <td>6.622085</td>\n",
       "      <td>0.544332</td>\n",
       "    </tr>\n",
       "    <tr>\n",
       "      <th>Ramicane</th>\n",
       "      <td>40.216745</td>\n",
       "      <td>40.673236</td>\n",
       "      <td>23.486704</td>\n",
       "      <td>4.846308</td>\n",
       "      <td>0.320955</td>\n",
       "    </tr>\n",
       "    <tr>\n",
       "      <th>Stelasyn</th>\n",
       "      <td>54.233149</td>\n",
       "      <td>52.431737</td>\n",
       "      <td>59.450562</td>\n",
       "      <td>7.710419</td>\n",
       "      <td>0.573111</td>\n",
       "    </tr>\n",
       "    <tr>\n",
       "      <th>Zoniferol</th>\n",
       "      <td>53.236507</td>\n",
       "      <td>51.818479</td>\n",
       "      <td>48.533355</td>\n",
       "      <td>6.966589</td>\n",
       "      <td>0.516398</td>\n",
       "    </tr>\n",
       "  </tbody>\n",
       "</table>\n",
       "</div>"
      ],
      "text/plain": [
       "                   Mean     Median   Variance  Std_Deviation       SEM\n",
       "Drug Regimen                                                          \n",
       "Capomulin     40.675741  41.557809  24.947764       4.994774  0.329346\n",
       "Ceftamin      52.591172  51.776157  39.290177       6.268188  0.469821\n",
       "Infubinol     52.884795  51.820584  43.128684       6.567243  0.492236\n",
       "Ketapril      55.235638  53.698743  68.553577       8.279709  0.603860\n",
       "Naftisol      54.331565  52.509285  66.173479       8.134708  0.596466\n",
       "Placebo       54.033581  52.288934  61.168083       7.821003  0.581331\n",
       "Propriva      52.320930  50.446266  43.852013       6.622085  0.544332\n",
       "Ramicane      40.216745  40.673236  23.486704       4.846308  0.320955\n",
       "Stelasyn      54.233149  52.431737  59.450562       7.710419  0.573111\n",
       "Zoniferol     53.236507  51.818479  48.533355       6.966589  0.516398"
      ]
     },
     "execution_count": 6,
     "metadata": {},
     "output_type": "execute_result"
    }
   ],
   "source": [
    "# Generate a summary statistics table of mean, median, variance, standard deviation, and SEM of the tumor volume for each regimen\n",
    "\n",
    "#### Create Base Table\n",
    "#### Create Summary Table with Mean as a starting column\n",
    "Drug_Analysis_Summary_1_df = pd.DataFrame(Drug_Study_Clean_Data_df.groupby(\"Drug Regimen\")['Tumor Volume (mm3)'].mean())\n",
    "##### Rename the Mean Column\n",
    "Drug_Analysis_Summary_1_df = Drug_Analysis_Summary_1_df.rename(columns={\"Tumor Volume (mm3)\": \"Mean\"}) \n",
    "\n",
    "# Use groupby and summary statistical methods to calculate the following properties of each drug regimen: \n",
    "# mean, median, variance, standard deviation, and SEM of the tumor volume. \n",
    "##### Add the Other Summary Statistics  \n",
    "Drug_Analysis_Summary_1_df[\"Median\"] = pd.DataFrame(Drug_Study_Clean_Data_df.groupby(\"Drug Regimen\")['Tumor Volume (mm3)'].median())\n",
    "Drug_Analysis_Summary_1_df[\"Variance\"] = pd.DataFrame(Drug_Study_Clean_Data_df.groupby(\"Drug Regimen\")['Tumor Volume (mm3)'].var())\n",
    "Drug_Analysis_Summary_1_df[\"Std_Deviation\"] = pd.DataFrame(Drug_Study_Clean_Data_df.groupby(\"Drug Regimen\")['Tumor Volume (mm3)'].std())\n",
    "Drug_Analysis_Summary_1_df[\"SEM\"] = pd.DataFrame(Drug_Study_Clean_Data_df.groupby(\"Drug Regimen\")['Tumor Volume (mm3)'].sem())\n",
    "\n",
    "# Assemble the resulting series into a single summary dataframe.\n",
    "##### Print the Summary DataFrame\n",
    "Drug_Analysis_Summary_1_df"
   ]
  },
  {
   "cell_type": "code",
   "execution_count": 7,
   "metadata": {},
   "outputs": [
    {
     "data": {
      "text/html": [
       "<div>\n",
       "<style scoped>\n",
       "    .dataframe tbody tr th:only-of-type {\n",
       "        vertical-align: middle;\n",
       "    }\n",
       "\n",
       "    .dataframe tbody tr th {\n",
       "        vertical-align: top;\n",
       "    }\n",
       "\n",
       "    .dataframe thead th {\n",
       "        text-align: right;\n",
       "    }\n",
       "</style>\n",
       "<table border=\"1\" class=\"dataframe\">\n",
       "  <thead>\n",
       "    <tr style=\"text-align: right;\">\n",
       "      <th></th>\n",
       "      <th>Mean</th>\n",
       "      <th>Median</th>\n",
       "      <th>Variance</th>\n",
       "      <th>Std_Deviation</th>\n",
       "      <th>SEM</th>\n",
       "    </tr>\n",
       "    <tr>\n",
       "      <th>Drug Regimen</th>\n",
       "      <th></th>\n",
       "      <th></th>\n",
       "      <th></th>\n",
       "      <th></th>\n",
       "      <th></th>\n",
       "    </tr>\n",
       "  </thead>\n",
       "  <tbody>\n",
       "    <tr>\n",
       "      <th>Capomulin</th>\n",
       "      <td>40.675741</td>\n",
       "      <td>41.557809</td>\n",
       "      <td>24.947764</td>\n",
       "      <td>4.994774</td>\n",
       "      <td>0.329346</td>\n",
       "    </tr>\n",
       "    <tr>\n",
       "      <th>Ceftamin</th>\n",
       "      <td>52.591172</td>\n",
       "      <td>51.776157</td>\n",
       "      <td>39.290177</td>\n",
       "      <td>6.268188</td>\n",
       "      <td>0.469821</td>\n",
       "    </tr>\n",
       "    <tr>\n",
       "      <th>Infubinol</th>\n",
       "      <td>52.884795</td>\n",
       "      <td>51.820584</td>\n",
       "      <td>43.128684</td>\n",
       "      <td>6.567243</td>\n",
       "      <td>0.492236</td>\n",
       "    </tr>\n",
       "    <tr>\n",
       "      <th>Ketapril</th>\n",
       "      <td>55.235638</td>\n",
       "      <td>53.698743</td>\n",
       "      <td>68.553577</td>\n",
       "      <td>8.279709</td>\n",
       "      <td>0.603860</td>\n",
       "    </tr>\n",
       "    <tr>\n",
       "      <th>Naftisol</th>\n",
       "      <td>54.331565</td>\n",
       "      <td>52.509285</td>\n",
       "      <td>66.173479</td>\n",
       "      <td>8.134708</td>\n",
       "      <td>0.596466</td>\n",
       "    </tr>\n",
       "    <tr>\n",
       "      <th>Placebo</th>\n",
       "      <td>54.033581</td>\n",
       "      <td>52.288934</td>\n",
       "      <td>61.168083</td>\n",
       "      <td>7.821003</td>\n",
       "      <td>0.581331</td>\n",
       "    </tr>\n",
       "    <tr>\n",
       "      <th>Propriva</th>\n",
       "      <td>52.320930</td>\n",
       "      <td>50.446266</td>\n",
       "      <td>43.852013</td>\n",
       "      <td>6.622085</td>\n",
       "      <td>0.544332</td>\n",
       "    </tr>\n",
       "    <tr>\n",
       "      <th>Ramicane</th>\n",
       "      <td>40.216745</td>\n",
       "      <td>40.673236</td>\n",
       "      <td>23.486704</td>\n",
       "      <td>4.846308</td>\n",
       "      <td>0.320955</td>\n",
       "    </tr>\n",
       "    <tr>\n",
       "      <th>Stelasyn</th>\n",
       "      <td>54.233149</td>\n",
       "      <td>52.431737</td>\n",
       "      <td>59.450562</td>\n",
       "      <td>7.710419</td>\n",
       "      <td>0.573111</td>\n",
       "    </tr>\n",
       "    <tr>\n",
       "      <th>Zoniferol</th>\n",
       "      <td>53.236507</td>\n",
       "      <td>51.818479</td>\n",
       "      <td>48.533355</td>\n",
       "      <td>6.966589</td>\n",
       "      <td>0.516398</td>\n",
       "    </tr>\n",
       "  </tbody>\n",
       "</table>\n",
       "</div>"
      ],
      "text/plain": [
       "                   Mean     Median   Variance  Std_Deviation       SEM\n",
       "Drug Regimen                                                          \n",
       "Capomulin     40.675741  41.557809  24.947764       4.994774  0.329346\n",
       "Ceftamin      52.591172  51.776157  39.290177       6.268188  0.469821\n",
       "Infubinol     52.884795  51.820584  43.128684       6.567243  0.492236\n",
       "Ketapril      55.235638  53.698743  68.553577       8.279709  0.603860\n",
       "Naftisol      54.331565  52.509285  66.173479       8.134708  0.596466\n",
       "Placebo       54.033581  52.288934  61.168083       7.821003  0.581331\n",
       "Propriva      52.320930  50.446266  43.852013       6.622085  0.544332\n",
       "Ramicane      40.216745  40.673236  23.486704       4.846308  0.320955\n",
       "Stelasyn      54.233149  52.431737  59.450562       7.710419  0.573111\n",
       "Zoniferol     53.236507  51.818479  48.533355       6.966589  0.516398"
      ]
     },
     "execution_count": 7,
     "metadata": {},
     "output_type": "execute_result"
    }
   ],
   "source": [
    "# Generate a summary statistics table of mean, median, variance, standard deviation, and SEM of the tumor volume for each regimen\n",
    "\n",
    "# Using the aggregation method, produce the same summary statistics in a single line\n",
    "Drug_Analysis_Summary_2_df = Drug_Study_Clean_Data_df.groupby(\"Drug Regimen\")['Tumor Volume (mm3)'].agg(Mean=\"mean\",Median=\"median\",Variance=\"var\",Std_Deviation=\"std\",SEM=\"sem\")\n",
    "\n",
    "#### Display the DataFrame\n",
    "Drug_Analysis_Summary_2_df"
   ]
  },
  {
   "cell_type": "markdown",
   "metadata": {},
   "source": [
    "## Bar and Pie Charts"
   ]
  },
  {
   "cell_type": "code",
   "execution_count": 8,
   "metadata": {},
   "outputs": [
    {
     "data": {
      "text/plain": [
       "<BarContainer object of 10 artists>"
      ]
     },
     "execution_count": 8,
     "metadata": {},
     "output_type": "execute_result"
    },
    {
     "data": {
      "image/png": "[encoded data removed]",
      "text/plain": [
       "<Figure size 432x288 with 1 Axes>"
      ]
     },
     "metadata": {
      "needs_background": "light"
     },
     "output_type": "display_data"
    }
   ],
   "source": [
    "# Generate a bar plot showing the total number of measurements taken on each drug regimen using pandas.\n",
    "#### create y values as sum / Meansurement Count by regiment \n",
    "Drug_Bar_Data_df = pd.DataFrame(Drug_Study_Clean_Data_df.groupby(\"Drug Regimen\")['Tumor Volume (mm3)'].count())\n",
    "Drug_Bar_Data_df = Drug_Bar_Data_df.rename(columns={\"Tumor Volume (mm3)\": \"Measurement_Count\"}) \n",
    "\n",
    "#### Set x axis and tick locations\n",
    "x_axis = np.arange(len(Drug_Bar_Data_df))\n",
    "tick_locations = [value for value in x_axis]\n",
    "\n",
    "\n",
    "plt.figure(figsize=(6,4))\n",
    "plt.xticks(tick_locations, Drug_Bar_Data_df.index, rotation=\"vertical\")\n",
    "plt.title(\"Measurements by Drug Regimen\")\n",
    "plt.ylabel(\"Number of Measurements\")\n",
    "plt.xlabel(\"Drug Regimen\")\n",
    "plt.bar(x_axis, Drug_Bar_Data_df[\"Measurement_Count\"], width=.5, color='g', align=\"center\")"
   ]
  },
  {
   "cell_type": "code",
   "execution_count": 9,
   "metadata": {},
   "outputs": [
    {
     "data": {
      "text/plain": [
       "<matplotlib.axes._subplots.AxesSubplot at 0x29ab38d8358>"
      ]
     },
     "execution_count": 9,
     "metadata": {},
     "output_type": "execute_result"
    },
    {
     "data": {
      "image/png": "[encoded data removed]",
      "text/plain": [
       "<Figure size 432x288 with 1 Axes>"
      ]
     },
     "metadata": {
      "needs_background": "light"
     },
     "output_type": "display_data"
    }
   ],
   "source": [
    "# Generate a bar plot showing the total number of measurements taken on each drug regimen using pyplot.\n",
    "plt.title(\"Measurements by Drug Regimen\")\n",
    "plt.ylabel(\"Number of Measurements\")\n",
    "Drug_Study_Clean_Data_df.groupby(\"Drug Regimen\")['Tumor Volume (mm3)'].count().plot(kind='bar',color='g', align=\"center\")"
   ]
  },
  {
   "cell_type": "code",
   "execution_count": 10,
   "metadata": {},
   "outputs": [
    {
     "data": {
      "text/plain": [
       "([<matplotlib.patches.Wedge at 0x29ab4d03668>,\n",
       "  <matplotlib.patches.Wedge at 0x29ab4d0d0f0>],\n",
       " [Text(-0.7176837777416648, -0.8336246128602807, 'Female'),\n",
       "  Text(0.7176837777416649, 0.8336246128602806, 'Male')],\n",
       " [Text(-0.39146387876818073, -0.45470433428742574, '49.6%'),\n",
       "  Text(0.39146387876818084, 0.4547043342874257, '50.4%')])"
      ]
     },
     "execution_count": 10,
     "metadata": {},
     "output_type": "execute_result"
    },
    {
     "data": {
      "image/png": "[encoded data removed]",
      "text/plain": [
       "<Figure size 432x288 with 1 Axes>"
      ]
     },
     "metadata": {},
     "output_type": "display_data"
    }
   ],
   "source": [
    "# Generate a pie plot showing the distribution of female versus male mice using pandas\n",
    "Gender_Pie_Data_df = pd.DataFrame(Drug_Study_Clean_Data_df.groupby(\"Sex\")['Mouse ID'].nunique())\n",
    "Gender_Pie_Data_df = Gender_Pie_Data_df.rename(columns={\"Mouse ID\": \"Mouse Subjects\"}) \n",
    "\n",
    "# Gender_Pie_Data_df.head()\n",
    "colors = [\"red\", \"green\"] \n",
    "plt.title(\"Breakdown of Mouse Subjects by Gender\",color=\"white\",size=15)\n",
    "plt.pie(Gender_Pie_Data_df[\"Mouse Subjects\"],labels=Gender_Pie_Data_df.index, colors=colors,textprops={'color':\"w\", 'size':15},autopct=\"%1.1f%%\", shadow=True, startangle=140)"
   ]
  },
  {
   "cell_type": "code",
   "execution_count": 11,
   "metadata": {},
   "outputs": [
    {
     "data": {
      "text/plain": [
       "<matplotlib.axes._subplots.AxesSubplot at 0x29ab4ca0eb8>"
      ]
     },
     "execution_count": 11,
     "metadata": {},
     "output_type": "execute_result"
    },
    {
     "data": {
      "image/png": "[encoded data removed]",
      "text/plain": [
       "<Figure size 432x288 with 1 Axes>"
      ]
     },
     "metadata": {},
     "output_type": "display_data"
    }
   ],
   "source": [
    "# Generate a pie plot showing the distribution of female versus male mice using pyplot\n",
    "\n",
    "Drug_Study_Clean_Data_df.groupby(\"Sex\")['Mouse ID'].nunique().plot(kind='pie',colors = [\"red\", \"green\"], textprops={'color':\"w\", 'size':15},autopct=\"%1.1f%%\", shadow=True, startangle=140, title=(\"Breakdown of Mouse Subjects by Gender\"))"
   ]
  },
  {
   "cell_type": "markdown",
   "metadata": {},
   "source": [
    "## Quartiles, Outliers and Boxplots"
   ]
  },
  {
   "cell_type": "code",
   "execution_count": 12,
   "metadata": {},
   "outputs": [
    {
     "name": "stdout",
     "output_type": "stream",
     "text": [
      "  Drug Regimen Mouse ID  Timepoint  Tumor Volume (mm3)  Metastatic Sites\n",
      "0    Capomulin     b128         45           38.982878                 2\n",
      "1    Capomulin     b742         45           38.939633                 0\n",
      "2    Capomulin     f966         20           30.485985                 0\n",
      "3    Capomulin     g288         45           37.074024                 1\n",
      "4    Capomulin     g316         45           40.159220                 2\n",
      "   Drug Regimen Mouse ID  Timepoint  Tumor Volume (mm3)  Metastatic Sites\n",
      "95     Ramicane     s508         45           30.276232                 0\n",
      "96     Ramicane     u196         45           40.667713                 3\n",
      "97     Ramicane     w678          5           43.166373                 0\n",
      "98     Ramicane     y449         15           44.183451                 0\n",
      "99     Ramicane     z578         45           30.638696                 0\n",
      "100\n"
     ]
    }
   ],
   "source": [
    "# Calculate the final tumor volume of each mouse across four of the treatment regimens:  \n",
    "# Capomulin, Ramicane, Infubinol, and Ceftamin\n",
    "\n",
    "# Calculate the final tumore volume for each mouse by getting the last (max) timepoint for each mouse within the 4 specified regimens\n",
    "Last_Mouse_Timepoint_df = Drug_Study_Clean_Data_df.loc[Drug_Study_Clean_Data_df[\"Drug Regimen\"].isin([\"Capomulin\", \"Ramicane\", \"Infubinol\",\"Ceftamin\"])].groupby([\"Drug Regimen\",\"Mouse ID\"],as_index=False)['Timepoint'].max()\n",
    "\n",
    "# Merge this group df with the original dataframe to get the tumor volume at the last timepoint\n",
    "Mouse_Data_df = pd.merge(Last_Mouse_Timepoint_df,study_results, on=[\"Mouse ID\",\"Timepoint\"], how=\"left\" )\n",
    "\n",
    "# Show some of the data - 1 row per regiment / Mouse \n",
    "print(Mouse_Data_df.head(5))\n",
    "print(Mouse_Data_df.tail(5))\n",
    "\n",
    "# and the nuique is a reduced number of mice (100) since we cut back on the number of regimens to 4\n",
    "print(Mouse_Data_df[\"Mouse ID\"].nunique())\n"
   ]
  },
  {
   "cell_type": "code",
   "execution_count": 13,
   "metadata": {},
   "outputs": [
    {
     "name": "stdout",
     "output_type": "stream",
     "text": [
      "Part 1 - The drug list is: ['Capomulin', 'Ceftamin', 'Infubinol', 'Ramicane'] \n",
      " \n",
      "\n",
      "Part 2 - The Regimen Stats are: \n",
      "   Drug Regimen       0.25        0.5       0.75        IQR  Lower_Bound  \\\n",
      "0    Capomulin  32.377357  38.125164  40.159220   7.781863    20.704562   \n",
      "1     Ceftamin  48.722078  59.851956  64.299830  15.577752    25.355450   \n",
      "2    Infubinol  54.048608  60.165180  65.525743  11.477135    36.832905   \n",
      "3     Ramicane  31.560470  36.561652  40.659006   9.098537    17.912664   \n",
      "\n",
      "   Upper_Bound  \n",
      "0    51.832015  \n",
      "1    87.666458  \n",
      "2    82.741446  \n",
      "3    54.306811   \n",
      " \n",
      "\n",
      "Part 3 - The Merged Data is: \n",
      "    Drug Regimen Mouse ID  Timepoint  Tumor Volume (mm3)  Metastatic Sites  \\\n",
      "0     Capomulin     b128         45           38.982878                 2   \n",
      "1     Capomulin     b742         45           38.939633                 0   \n",
      "2     Capomulin     f966         20           30.485985                 0   \n",
      "3     Capomulin     g288         45           37.074024                 1   \n",
      "4     Capomulin     g316         45           40.159220                 2   \n",
      "..          ...      ...        ...                 ...               ...   \n",
      "95     Ramicane     s508         45           30.276232                 0   \n",
      "96     Ramicane     u196         45           40.667713                 3   \n",
      "97     Ramicane     w678          5           43.166373                 0   \n",
      "98     Ramicane     y449         15           44.183451                 0   \n",
      "99     Ramicane     z578         45           30.638696                 0   \n",
      "\n",
      "         0.25        0.5       0.75       IQR  Lower_Bound  Upper_Bound  \n",
      "0   32.377357  38.125164  40.159220  7.781863    20.704562    51.832015  \n",
      "1   32.377357  38.125164  40.159220  7.781863    20.704562    51.832015  \n",
      "2   32.377357  38.125164  40.159220  7.781863    20.704562    51.832015  \n",
      "3   32.377357  38.125164  40.159220  7.781863    20.704562    51.832015  \n",
      "4   32.377357  38.125164  40.159220  7.781863    20.704562    51.832015  \n",
      "..        ...        ...        ...       ...          ...          ...  \n",
      "95  31.560470  36.561652  40.659006  9.098537    17.912664    54.306811  \n",
      "96  31.560470  36.561652  40.659006  9.098537    17.912664    54.306811  \n",
      "97  31.560470  36.561652  40.659006  9.098537    17.912664    54.306811  \n",
      "98  31.560470  36.561652  40.659006  9.098537    17.912664    54.306811  \n",
      "99  31.560470  36.561652  40.659006  9.098537    17.912664    54.306811  \n",
      "\n",
      "[100 rows x 11 columns] \n",
      " \n",
      "\n",
      "Part 4 - The Outlier(s): \n",
      "    Drug Regimen Mouse ID  Timepoint  Tumor Volume (mm3)  Metastatic Sites  \\\n",
      "55    Infubinol     c326          5           36.321346                 0   \n",
      "\n",
      "         0.25       0.5       0.75        IQR  Lower_Bound  Upper_Bound  \n",
      "55  54.048608  60.16518  65.525743  11.477135    36.832905    82.741446   \n",
      " \n",
      "\n"
     ]
    }
   ],
   "source": [
    "# Put treatments into a list for for loop (and later for plot labels) - by getting the unique drug names \n",
    "Drug_Treatment_List = Mouse_Data_df[(\"Drug Regimen\")].unique().tolist()\n",
    "print(f\"Part 1 - The drug list is: {Drug_Treatment_List} \\n \\n\")\n",
    "\n",
    "# Calculate and add the quartiles, using the unstack to put into rows \n",
    "Regimen_Stats = pd.DataFrame(Mouse_Data_df.groupby(\"Drug Regimen\")[\"Tumor Volume (mm3)\"].quantile([.25,.50,.75]).unstack().reset_index())\n",
    "\n",
    "# Calculate IQR and add\n",
    "Regimen_Stats[\"IQR\"] = Regimen_Stats.loc[: , 0.75] - Regimen_Stats.loc[:,0.25]\n",
    "\n",
    "# Calculate lower_Bound and Upper_Bound and add\n",
    "Regimen_Stats[\"Lower_Bound\"] = Regimen_Stats.loc[: , 0.25] - (1.5 * Regimen_Stats.loc[: , \"IQR\"])\n",
    "Regimen_Stats[\"Upper_Bound\"] = Regimen_Stats.loc[: , 0.75] + (1.5 * Regimen_Stats.loc[: , \"IQR\"])\n",
    "\n",
    "print(f\"Part 2 - The Regimen Stats are: \\n {Regimen_Stats} \\n \\n\")\n",
    "\n",
    "# Merge the stats with earch mouse row and detify if an outlier\n",
    "Mouse_Check_Data = pd.merge(Mouse_Data_df,Regimen_Stats, on=[\"Drug Regimen\"], how=\"left\" )\n",
    "print(f\"Part 3 - The Merged Data is: \\n {Mouse_Check_Data} \\n \\n\")\n",
    "\n",
    "Outliers = Mouse_Check_Data.loc[((Mouse_Check_Data[\"Tumor Volume (mm3)\"] < Mouse_Check_Data[\"Lower_Bound\"]) | (Mouse_Check_Data[\"Tumor Volume (mm3)\"] > Mouse_Check_Data[\"Upper_Bound\"])),:]\n",
    "print(f\"Part 4 - The Outlier(s): \\n {Outliers} \\n \\n\")\n"
   ]
  },
  {
   "cell_type": "code",
   "execution_count": 14,
   "metadata": {},
   "outputs": [
    {
     "data": {
      "text/plain": [
       "Text(0, 0.5, 'Tumor Volume (mm3)')"
      ]
     },
     "execution_count": 14,
     "metadata": {},
     "output_type": "execute_result"
    },
    {
     "data": {
      "image/png": "[encoded data removed]",
      "text/plain": [
       "<Figure size 576x432 with 1 Axes>"
      ]
     },
     "metadata": {
      "needs_background": "light"
     },
     "output_type": "display_data"
    }
   ],
   "source": [
    "# Generate a box plot of the final tumor volume of each mouse across four regimens of interest\n",
    "\n",
    "green_diamond = dict(markerfacecolor='g', marker='D')\n",
    "boxplot = Mouse_Data_df.boxplot(by=\"Drug Regimen\",column='Tumor Volume (mm3)',flierprops =green_diamond,figsize=(8,6))\n",
    "boxplot.set_ylabel(\"Tumor Volume (mm3)\")\n"
   ]
  },
  {
   "cell_type": "code",
   "execution_count": null,
   "metadata": {},
   "outputs": [],
   "source": []
  },
  {
   "cell_type": "markdown",
   "metadata": {},
   "source": [
    "## Line and Scatter Plots"
   ]
  },
  {
   "cell_type": "code",
   "execution_count": 15,
   "metadata": {},
   "outputs": [
    {
     "data": {
      "text/plain": [
       "Text(0, 0.5, 'Tumor Volume (mm3)')"
      ]
     },
     "execution_count": 15,
     "metadata": {},
     "output_type": "execute_result"
    },
    {
     "data": {
      "image/png": "[encoded data removed]",
      "text/plain": [
       "<Figure size 432x288 with 1 Axes>"
      ]
     },
     "metadata": {
      "needs_background": "light"
     },
     "output_type": "display_data"
    }
   ],
   "source": [
    "# Generate a line plot of tumor volume vs. time point for a mouse treated with Capomulin\n",
    "# Drug Regimen Mouse ID  \n",
    "#  Capomulin     b128 \n",
    "\n",
    "\n",
    "# gender_chart.set_xlabel(\"Gender\")\n",
    "\n",
    "Line_Chart = Drug_Study_Clean_Data_df.loc[(Drug_Study_Clean_Data_df[\"Mouse ID\"] == \"b128\")].plot(x=\"Timepoint\", y=\"Tumor Volume (mm3)\",title=\"Tumor Volume vs. Timepoint \\n for Mouse ID = b128\"\n",
    ");\n",
    "Line_Chart.set_ylabel(\"Tumor Volume (mm3)\")\n",
    "\n",
    "# print(Drug_Study_Clean_Data_df.loc[(Drug_Study_Clean_Data_df[\"Mouse ID\"] == \"b128\")])"
   ]
  },
  {
   "cell_type": "code",
   "execution_count": 16,
   "metadata": {},
   "outputs": [
    {
     "data": {
      "image/png": "[encoded data removed]",
      "text/plain": [
       "<Figure size 432x288 with 1 Axes>"
      ]
     },
     "metadata": {
      "needs_background": "light"
     },
     "output_type": "display_data"
    }
   ],
   "source": [
    "# Generate a scatter plot of average tumor volume vs. mouse weight for the Capomulin regimen\n",
    "Scatter_Data_Tumor_df = Drug_Study_Clean_Data_df.loc[Drug_Study_Clean_Data_df[\"Drug Regimen\"] == \"Capomulin\"].groupby([\"Drug Regimen\",\"Mouse ID\"],as_index=True)['Tumor Volume (mm3)'].mean()\n",
    "Scatter_Data_Weight_df = Drug_Study_Clean_Data_df.loc[Drug_Study_Clean_Data_df[\"Drug Regimen\"] == \"Capomulin\"].groupby([\"Drug Regimen\",\"Mouse ID\"],as_index=True)['Weight (g)'].max()\n",
    "\n",
    "\n",
    "Scatter_Data_Merge_df = pd.merge(Scatter_Data_Tumor_df,Scatter_Data_Weight_df, on=[\"Drug Regimen\",\"Mouse ID\"])\n",
    "# Scatter_Data_Merge_df\n",
    "\n",
    "Scatter_Data_Graph = Scatter_Data_Merge_df.plot(x='Weight (g)', y=\"Tumor Volume (mm3)\", kind=\"scatter\",title=\"Mouse Weight vs. Avg Tumor Volume \\n for Capomulin Regimen\")"
   ]
  },
  {
   "cell_type": "markdown",
   "metadata": {},
   "source": [
    "## Correlation and Regression"
   ]
  },
  {
   "cell_type": "code",
   "execution_count": 18,
   "metadata": {},
   "outputs": [
    {
     "data": {
      "image/png": "[encoded data removed]",
      "text/plain": [
       "<Figure size 432x288 with 1 Axes>"
      ]
     },
     "metadata": {
      "needs_background": "light"
     },
     "output_type": "display_data"
    }
   ],
   "source": [
    "# Calculate the correlation coefficient and linear regression model \n",
    "# for mouse weight and average tumor volume for the Capomulin regimen\n",
    "x_values = Scatter_Data_Weight_df\n",
    "y_values = Scatter_Data_Tumor_df\n",
    "(slope, intercept, rvalue, pvalue, stderr) = linregress(x_values,y_values)\n",
    "regress_values = x_values * slope + intercept\n",
    "line_eq = \"y = \" + str(round(slope,2)) + \"x + \" + str(round(intercept,2))\n",
    "plt.scatter(x_values,y_values)\n",
    "plt.plot(x_values,regress_values,\"r-\")\n",
    "plt.annotate(line_eq,(19,36),fontsize=15,color=\"red\",rotation=30)\n",
    "plt.xlabel('Weight (g)')\n",
    "plt.ylabel(\"Tumor Volume (mm3)\")\n",
    "plt.title(\"Mouse Weight vs. Avg Tumor Volume \\n for Capomulin Regimen\")\n",
    "plt.show()"
   ]
  },
  {
   "cell_type": "code",
   "execution_count": null,
   "metadata": {},
   "outputs": [],
   "source": []
  }
 ],
 "metadata": {
  "anaconda-cloud": {},
  "kernelspec": {
   "display_name": "Python 3",
   "language": "python",
   "name": "python3"
  },
  "language_info": {
   "codemirror_mode": {
    "name": "ipython",
    "version": 3
   },
   "file_extension": ".py",
   "mimetype": "text/x-python",
   "name": "python",
   "nbconvert_exporter": "python",
   "pygments_lexer": "ipython3",
   "version": "3.6.10"
  }
 },
 "nbformat": 4,
 "nbformat_minor": 4
}
